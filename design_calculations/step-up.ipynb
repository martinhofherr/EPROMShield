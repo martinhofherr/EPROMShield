{
    "cells": [
        {
            "cell_type": "markdown",
            "source": [
                "# MC34063 Step-Up Converter for EPROM Programmer shield\r\n",
                "\r\n",
                "UV-EPROMs need a 12.75 V programming voltage that is applied during programming. This\r\n",
                "Voltage will be created by a MC34063 in boost converter configuration. This configuration\r\n",
                "can be seen in this picture.\r\n",
                "\r\n",
                "![Step-Up](./mc34063_step_up.png)"
            ],
            "metadata": {}
        },
        {
            "cell_type": "markdown",
            "source": [
                "The design process is given by the set of formulas from the [datasheet](./datasheet/MC34063A-D.pdf).\r\n",
                "\r\n",
                "![](./step_up_formula.png)\r\n",
                "\r\n",
                "Furthermore the output Voltage is defined by the Formula: Vout = 1.25 * (1+R2/R1)"
            ],
            "metadata": {}
        },
        {
            "cell_type": "code",
            "execution_count": 10,
            "source": [
                "Vout = 12.75\r\n",
                "Vin_min = 5\r\n",
                "Vsat = 1.3\r\n",
                "f = 50e3\r\n",
                "Iout_max = 150e-3\r\n",
                "Iout = 100e-3\r\n",
                "VF = 0.75\r\n",
                "Vripple = 0.25\r\n",
                "\r\n",
                "R1 = 2e3\r\n",
                "\r\n",
                "ton_over_toff = (Vout + VF - Vin_min)/(Vin_min - Vsat)\r\n",
                "ton_plus_toff = 1/f\r\n",
                "toff = ton_plus_toff/(ton_over_toff+1)\r\n",
                "ton = ton_plus_toff - toff\r\n",
                "CT = 4e-5 * ton\r\n",
                "Ipk = 2*Iout_max * (ton_over_toff + 1)\r\n",
                "Rsc = 0.3/Ipk\r\n",
                "Lmin = (Vin_min - Vsat)/Ipk * ton\r\n",
                "Co = 9*Iout*ton/Vripple \r\n",
                "R2 = (Vout/1.25 - 1) * R1\r\n",
                "\r\n",
                "print(f\"CT = {CT}\")\r\n",
                "print(f\"Rsc = {Rsc}\")\r\n",
                "print(f\"Lmin = {Lmin}\")\r\n",
                "print(f\"Co = {Co}\")\r\n",
                "print(f\"R1 = {R1}\")\r\n",
                "print(f\"R2 = {R2}\")"
            ],
            "outputs": [
                {
                    "output_type": "stream",
                    "name": "stdout",
                    "text": [
                        "CT = 4.5945945945945955e-10\n",
                        "Rsc = 0.4256756756756756\n",
                        "Lmin = 6.030405405405406e-05\n",
                        "Co = 4.135135135135136e-05\n",
                        "R1 = 2000.0\n",
                        "R2 = 18400.0\n"
                    ]
                }
            ],
            "metadata": {}
        }
    ],
    "metadata": {
        "orig_nbformat": 4,
        "language_info": {
            "name": "python",
            "version": "3.9.5",
            "mimetype": "text/x-python",
            "codemirror_mode": {
                "name": "ipython",
                "version": 3
            },
            "pygments_lexer": "ipython3",
            "nbconvert_exporter": "python",
            "file_extension": ".py"
        },
        "kernelspec": {
            "name": "python3",
            "display_name": "Python 3.9.5 64-bit"
        },
        "interpreter": {
            "hash": "daa6692a9a25a805f0080bfa633b25bec6357e05f7075a2b06b54cf889bcf720"
        }
    },
    "nbformat": 4,
    "nbformat_minor": 2
}